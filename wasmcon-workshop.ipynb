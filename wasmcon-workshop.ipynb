{
 "cells": [
  {
   "cell_type": "markdown",
   "id": "initial_id",
   "metadata": {
    "collapsed": true
   },
   "source": [
    "### Wasmcon workshop by Midokura"
   ]
  },
  {
   "cell_type": "code",
   "execution_count": null,
   "id": "d5464594",
   "metadata": {
    "vscode": {
     "languageId": "shellscript"
    }
   },
   "outputs": [],
   "source": [
    "!wedge-cli -h"
   ]
  },
  {
   "cell_type": "code",
   "execution_count": null,
   "id": "486de3a7",
   "metadata": {
    "vscode": {
     "languageId": "shellscript"
    }
   },
   "outputs": [],
   "source": [
    "!cd samples/source-sink && wedge-cli build"
   ]
  },
  {
   "cell_type": "code",
   "execution_count": null,
   "id": "98806a10",
   "metadata": {
    "vscode": {
     "languageId": "shellscript"
    }
   },
   "outputs": [],
   "source": [
    "!cd samples/source-sink/ && wedge-cli -v deploy"
   ]
  },
  {
   "cell_type": "code",
   "execution_count": null,
   "id": "afe27d46",
   "metadata": {},
   "outputs": [],
   "source": [
    "!wedge-cli get deployment"
   ]
  }
 ],
 "metadata": {
  "kernelspec": {
   "display_name": "Python 3 (ipykernel)",
   "language": "python",
   "name": "python3"
  },
  "language_info": {
   "codemirror_mode": {
    "name": "ipython",
    "version": 3
   },
   "file_extension": ".py",
   "mimetype": "text/x-python",
   "name": "python",
   "nbconvert_exporter": "python",
   "pygments_lexer": "ipython3",
   "version": "3.9.17"
  },
  "vscode": {
   "interpreter": {
    "hash": "949777d72b0d2535278d3dc13498b2535136f6dfe0678499012e853ee9abcab1"
   }
  }
 },
 "nbformat": 4,
 "nbformat_minor": 5
}
