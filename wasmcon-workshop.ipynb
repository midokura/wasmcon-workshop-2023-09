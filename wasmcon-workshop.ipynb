{
 "cells": [
  {
   "cell_type": "markdown",
   "id": "initial_id",
   "metadata": {
    "collapsed": true
   },
   "source": [
    "### Wasmcon workshop by Midokura"
   ]
  },
  {
   "cell_type": "code",
   "execution_count": 1,
   "id": "6d69f99f",
   "metadata": {},
   "outputs": [],
   "source": [
    "import subprocess"
   ]
  },
  {
   "cell_type": "code",
   "execution_count": 3,
   "id": "d5464594",
   "metadata": {
    "vscode": {
     "languageId": "shellscript"
    }
   },
   "outputs": [
    {
     "name": "stdout",
     "output_type": "stream",
     "text": [
      "usage: wedge-cli [-h] [-v] [-d] {start,deploy,build,new,get,config,logs} ...\n",
      "\n",
      "Wedge-Agent CLI\n",
      "\n",
      "positional arguments:\n",
      "  {start,deploy,build,new,get,config,logs}\n",
      "\n",
      "optional arguments:\n",
      "  -h, --help            show this help message and exit\n",
      "  -v, --verbose\n",
      "  -d, --debug\n"
     ]
    }
   ],
   "source": [
    "!wedge-cli -h"
   ]
  },
  {
   "cell_type": "code",
   "execution_count": 2,
   "id": "486de3a7",
   "metadata": {
    "vscode": {
     "languageId": "shellscript"
    }
   },
   "outputs": [
    {
     "name": "stdout",
     "output_type": "stream",
     "text": [
      "make[1]: Entering directory '/workspaces/wasmcon-workshop-2023-09/samples/source-sink/source'\n",
      "rm -f ../bin/source.wasm *.o\n",
      "make[1]: Leaving directory '/workspaces/wasmcon-workshop-2023-09/samples/source-sink/source'\n",
      "/workspaces/wasmcon-workshop-2023-09/samples/source-sink\n",
      "make[1]: Entering directory '/workspaces/wasmcon-workshop-2023-09/samples/source-sink/sink'\n",
      "rm -f ../bin/sink.wasm *.o\n",
      "make[1]: Leaving directory '/workspaces/wasmcon-workshop-2023-09/samples/source-sink/sink'\n",
      "/workspaces/wasmcon-workshop-2023-09/samples/source-sink\n",
      "rm -rf bin\n",
      "make[1]: Entering directory '/workspaces/wasmcon-workshop-2023-09/samples/source-sink/source'\n",
      "/opt/wasi-sdk/bin/clang  -I../../sdk/include -c main.c\n",
      "mkdir -p `dirname ../bin/source.wasm`\n",
      "/opt/wasi-sdk/bin/clang -Wl,-allow-undefined -z stack-size=32768 -Wl,--initial-memory=655360 -Wl,--export=malloc -Wl,--export=free -Wl,--export=__data_end -Wl,--export=__heap_base -o ../bin/source.wasm main.o\n",
      "make[1]: Leaving directory '/workspaces/wasmcon-workshop-2023-09/samples/source-sink/source'\n",
      "make[1]: Entering directory '/workspaces/wasmcon-workshop-2023-09/samples/source-sink/sink'\n",
      "/opt/wasi-sdk/bin/clang  -I../../sdk/include -c main.c\n",
      "mkdir -p `dirname ../bin/sink.wasm`\n",
      "/opt/wasi-sdk/bin/clang -Wl,-allow-undefined -z stack-size=32768 -Wl,--initial-memory=655360 -Wl,--export=malloc -Wl,--export=free -Wl,--export=__data_end -Wl,--export=__heap_base -o ../bin/sink.wasm main.o\n",
      "make[1]: Leaving directory '/workspaces/wasmcon-workshop-2023-09/samples/source-sink/sink'\n"
     ]
    }
   ],
   "source": [
    "!cd samples/source-sink && wedge-cli build"
   ]
  },
  {
   "cell_type": "code",
   "execution_count": 5,
   "id": "98806a10",
   "metadata": {
    "vscode": {
     "languageId": "shellscript"
    }
   },
   "outputs": [
    {
     "name": "stdout",
     "output_type": "stream",
     "text": [
      "INFO: Downloaded module bin/sink.wasm\n",
      "INFO: Downloaded module bin/source.wasm\n"
     ]
    }
   ],
   "source": [
    "!cd samples/source-sink/ && wedge-cli -v deploy"
   ]
  },
  {
   "cell_type": "code",
   "execution_count": 6,
   "id": "afe27d46",
   "metadata": {},
   "outputs": [
    {
     "name": "stdout",
     "output_type": "stream",
     "text": [
      "{'state/$agent/report-status-interval-min': 3, 'state/$agent/report-status-interval-max': 3, 'systemInfo': {'os': 'Linux', 'arch': 'x86_64', 'evp_agent': 'v1.21.0', 'protocolVersion': 'EVP2-TB'}, 'deploymentStatus': {'instances': {'sink_instance': {'status': 'ok', 'moduleId': 'sink'}, 'source_instance': {'status': 'ok', 'moduleId': 'source'}}, 'modules': {'source': {'status': 'ok'}, 'sink': {'status': 'ok'}}, 'deploymentId': 'bf031e17-6a26-475e-95d0-dede8e798cf8', 'reconcileStatus': 'ok'}}\n",
      "{}\n",
      "{'state/$agent/report-status-interval-min': 3, 'state/$agent/report-status-interval-max': 3, 'systemInfo': {'os': 'Linux', 'arch': 'x86_64', 'evp_agent': 'v1.21.0', 'protocolVersion': 'EVP2-TB'}, 'deploymentStatus': {'instances': {'sink_instance': {'status': 'ok', 'moduleId': 'sink'}, 'source_instance': {'status': 'ok', 'moduleId': 'source'}}, 'modules': {'source': {'status': 'ok'}, 'sink': {'status': 'ok'}}, 'deploymentId': 'bf031e17-6a26-475e-95d0-dede8e798cf8', 'reconcileStatus': 'ok'}}\n",
      "{}\n",
      "^C\n"
     ]
    }
   ],
   "source": [
    "!wedge-cli get deployment"
   ]
  }
 ],
 "metadata": {
  "kernelspec": {
   "display_name": "Python 3 (ipykernel)",
   "language": "python",
   "name": "python3"
  },
  "language_info": {
   "codemirror_mode": {
    "name": "ipython",
    "version": 3
   },
   "file_extension": ".py",
   "mimetype": "text/x-python",
   "name": "python",
   "nbconvert_exporter": "python",
   "pygments_lexer": "ipython3",
   "version": "3.9.17"
  },
  "vscode": {
   "interpreter": {
    "hash": "949777d72b0d2535278d3dc13498b2535136f6dfe0678499012e853ee9abcab1"
   }
  }
 },
 "nbformat": 4,
 "nbformat_minor": 5
}
