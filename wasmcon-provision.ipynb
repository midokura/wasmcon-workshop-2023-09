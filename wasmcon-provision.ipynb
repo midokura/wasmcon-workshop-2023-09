{
 "cells": [
  {
   "attachments": {},
   "cell_type": "markdown",
   "metadata": {},
   "source": [
    "### Raspberry-Pi4 Provisioning"
   ]
  },
  {
   "attachments": {},
   "cell_type": "markdown",
   "metadata": {},
   "source": [
    "Since Raspberry-Pi4 wants to know the adress of MQTT broker, Send Configuration from your codespaces.  \n",
    "\n",
    "\n",
    "First, We need domain name and port of Raspberry Pi4. \n",
    "Our staff will tell you your Raspberru Pi's domain name.  "
   ]
  },
  {
   "cell_type": "code",
   "execution_count": null,
   "metadata": {},
   "outputs": [],
   "source": [
    "RASP_DOMAIN_NAME='rasp.wasmcon.com'\n",
    "RASP_PORT=8100"
   ]
  },
  {
   "attachments": {},
   "cell_type": "markdown",
   "metadata": {},
   "source": [
    "Please put your PC's ip address"
   ]
  },
  {
   "cell_type": "code",
   "execution_count": null,
   "metadata": {},
   "outputs": [],
   "source": [
    "LOCAL_IP_ADDR='Please get it from your local machine'\n",
    "FORWARDING_PORT=1833"
   ]
  },
  {
   "attachments": {},
   "cell_type": "markdown",
   "metadata": {},
   "source": [
    "Now let's start the  WEdge Agent inside Raspberry Pi4 via WEdge CLI"
   ]
  },
  {
   "cell_type": "code",
   "execution_count": null,
   "metadata": {},
   "outputs": [],
   "source": [
    "! wedge-cli config send --ip $RASP_DOMAIN_NAME --port $RASP_PORT mqtt.host=$LOCAL_IP_ADDR mqtt.port=$FORWARDING_PORT"
   ]
  },
  {
   "attachments": {},
   "cell_type": "markdown",
   "metadata": {},
   "source": [
    "No Error ? Congratulations ! Now you can proceed to the Hands On notebook "
   ]
  }
 ],
 "metadata": {
  "kernelspec": {
   "display_name": "Python 3 (ipykernel)",
   "language": "python",
   "name": "python3"
  },
  "language_info": {
   "codemirror_mode": {
    "name": "ipython",
    "version": 3
   },
   "file_extension": ".py",
   "mimetype": "text/x-python",
   "name": "python",
   "nbconvert_exporter": "python",
   "pygments_lexer": "ipython3",
   "version": "3.10.13"
  },
  "orig_nbformat": 4,
  "vscode": {
   "interpreter": {
    "hash": "6e6a8208b5c026a8c0de9425c389826232a6a2d0a5827555e10540e38d8b94bf"
   }
  }
 },
 "nbformat": 4,
 "nbformat_minor": 2
}
